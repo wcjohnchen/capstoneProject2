{
 "cells": [
  {
   "cell_type": "code",
   "execution_count": 278,
   "metadata": {},
   "outputs": [],
   "source": [
    "##### import\n",
    "import numpy as np\n",
    "import pandas as pd\n",
    "import matplotlib.pyplot as plt\n",
    "import scipy.stats as stats\n",
    "import statsmodels.api as sm\n",
    "\n",
    "from sklearn.model_selection import train_test_split, cross_val_score, KFold\n",
    "from sklearn.model_selection import GridSearchCV\n",
    "\n",
    "from sklearn.linear_model import LinearRegression, Ridge, Lasso\n",
    "from sklearn.ensemble import RandomForestRegressor, GradientBoostingRegressor, RandomForestClassifier, GradientBoostingClassifier\n",
    "from sklearn.tree import DecisionTreeRegressor\n",
    "\n",
    "from sklearn.linear_model import LinearRegression\n",
    "from sklearn.linear_model import Ridge\n",
    "from sklearn.linear_model import Lasso\n",
    "\n",
    "from sklearn.preprocessing import StandardScaler\n",
    "\n",
    "from sklearn.metrics import r2_score, mean_squared_error, mean_absolute_error, accuracy_score, precision_score, recall_score, confusion_matrix, plot_confusion_matrix\n",
    "from sklearn.inspection import permutation_importance"
   ]
  },
  {
   "cell_type": "code",
   "execution_count": 279,
   "metadata": {},
   "outputs": [],
   "source": [
    "##### random seeds\n",
    "random_state = 10\n",
    "\n",
    "\n",
    "##### models: hyperparameters (parameters were optimized after two rounds of selection)\n",
    "##### random forest\n",
    "n_estimators = [300] #[100, 200, 300, 400, 500, ,750, 1000]\n",
    "max_depth = [None] #[None, 2, 4, 5]\n",
    "max_features = ['auto'] #['auto', 2]\n",
    "min_samples_leaf = [1] #[1, 2, 3]\n",
    "oob_score = [True]\n",
    "param_grid_rf = {'n_estimators': n_estimators,\n",
    "                 'max_depth': max_depth,\n",
    "                 'max_features': max_features,\n",
    "                 'min_samples_leaf': min_samples_leaf,\n",
    "                 'oob_score': oob_score}\n",
    "\n",
    "##### gradient boosting classifier\n",
    "n_estimators = [4500] #[100, 200, 500, 1000, 1500, 2000, 2500, 3000, 3500, 4000, 4250, 4500, 4750]\n",
    "learning_rate = [0.05] #[0.1, 0.075, 0.05, 0.025, 0.01]\n",
    "max_depth = [5] #[2, 5, 7, 10]\n",
    "subsample = [0.15] #[0.1, 0.15, 0.2]\n",
    "max_features = ['auto'] #['auto', 2, 3]\n",
    "param_grid_gbr = {'n_estimators': n_estimators,\n",
    "                  'learning_rate': learning_rate,\n",
    "                  'max_depth': max_depth,\n",
    "                  'max_features': max_features,\n",
    "                  'subsample': subsample}"
   ]
  },
  {
   "cell_type": "code",
   "execution_count": 280,
   "metadata": {},
   "outputs": [],
   "source": [
    "def pricing(x):\n",
    "    if x >= 0 and x < 500000:\n",
    "        return 0\n",
    "    elif x >= 500000 and x < 1000000:\n",
    "        return 1\n",
    "    else: ### x >= 1000000\n",
    "        return 2\n",
    "\n",
    "def grid_search_cv(estimator, param_grid, X_train, y_train):\n",
    "    grid_search = GridSearchCV(estimator, param_grid, cv = 5, verbose = 2, n_jobs = -1)\n",
    "    grid_search.fit(X_train, y_train)\n",
    "    print('best parameters:', grid_search.best_params_)\n",
    "    return grid_search.best_estimator_, grid_search.best_params_ # , grid_search.cv_results_\n",
    "\n",
    "def evaluate(model, X_test, y_test):\n",
    "    y_pred = model.predict(X_test)\n",
    "    \n",
    "    #mae = mean_absolute_error(y_test, y_pred)\n",
    "    #mse = mean_squared_error(y_test, y_pred)\n",
    "    #rmse = np.sqrt(mse)\n",
    "    accuracy = accuracy_score(y_test, y_pred)\n",
    "    precision = precision_score(y_test, y_pred, average='macro')\n",
    "    recall = recall_score(y_test, y_pred, average='macro')\n",
    "\n",
    "    print('accuracy: {:0.6f}'.format(accuracy))\n",
    "    print('precision: {:0.6f}'.format(precision))\n",
    "    print('recall: {:0.6f}'.format(recall))\n",
    "    #print('mse: {:0.6f}'.format(mse))\n",
    "    #print('rmse: {:0.6f}'.format(rmse))\n",
    "    #print('r2: {:0.6f}'.format(r2))\n",
    "    return accuracy, y_pred, precision, recall\n",
    "\n",
    "\n",
    "def classify_model(model, param_grid, X_train, X_test, y_train, y_test):\n",
    "    best_grid = grid_search_cv(model, param_grid, X_train, y_train)\n",
    "    print(best_grid[0])\n",
    "    \n",
    "    ##### evaluate the optimal model\n",
    "    print('Train dataset:')\n",
    "    train_result = evaluate(best_grid[0], X_train, y_train)\n",
    "    print('Test dataset:')\n",
    "    test_result = evaluate(best_grid[0], X_test, y_test)\n",
    "    return best_grid, train_result, test_result"
   ]
  },
  {
   "cell_type": "code",
   "execution_count": 281,
   "metadata": {},
   "outputs": [
    {
     "data": {
      "text/html": [
       "<div>\n",
       "<style scoped>\n",
       "    .dataframe tbody tr th:only-of-type {\n",
       "        vertical-align: middle;\n",
       "    }\n",
       "\n",
       "    .dataframe tbody tr th {\n",
       "        vertical-align: top;\n",
       "    }\n",
       "\n",
       "    .dataframe thead th {\n",
       "        text-align: right;\n",
       "    }\n",
       "</style>\n",
       "<table border=\"1\" class=\"dataframe\">\n",
       "  <thead>\n",
       "    <tr style=\"text-align: right;\">\n",
       "      <th></th>\n",
       "      <th>image_id</th>\n",
       "      <th>street</th>\n",
       "      <th>city</th>\n",
       "      <th>city_code</th>\n",
       "      <th>bed</th>\n",
       "      <th>bath</th>\n",
       "      <th>sqft</th>\n",
       "      <th>price</th>\n",
       "    </tr>\n",
       "  </thead>\n",
       "  <tbody>\n",
       "    <tr>\n",
       "      <th>0</th>\n",
       "      <td>0</td>\n",
       "      <td>1317 Van Buren Avenue</td>\n",
       "      <td>Salton City, CA</td>\n",
       "      <td>317</td>\n",
       "      <td>3</td>\n",
       "      <td>2.0</td>\n",
       "      <td>1560</td>\n",
       "      <td>201900</td>\n",
       "    </tr>\n",
       "    <tr>\n",
       "      <th>1</th>\n",
       "      <td>1</td>\n",
       "      <td>124 C Street W</td>\n",
       "      <td>Brawley, CA</td>\n",
       "      <td>48</td>\n",
       "      <td>3</td>\n",
       "      <td>2.0</td>\n",
       "      <td>713</td>\n",
       "      <td>228500</td>\n",
       "    </tr>\n",
       "    <tr>\n",
       "      <th>2</th>\n",
       "      <td>2</td>\n",
       "      <td>2304 Clark Road</td>\n",
       "      <td>Imperial, CA</td>\n",
       "      <td>152</td>\n",
       "      <td>3</td>\n",
       "      <td>1.0</td>\n",
       "      <td>800</td>\n",
       "      <td>273950</td>\n",
       "    </tr>\n",
       "    <tr>\n",
       "      <th>3</th>\n",
       "      <td>3</td>\n",
       "      <td>755 Brawley Avenue</td>\n",
       "      <td>Brawley, CA</td>\n",
       "      <td>48</td>\n",
       "      <td>3</td>\n",
       "      <td>1.0</td>\n",
       "      <td>1082</td>\n",
       "      <td>350000</td>\n",
       "    </tr>\n",
       "    <tr>\n",
       "      <th>4</th>\n",
       "      <td>4</td>\n",
       "      <td>2207 R Carrillo Court</td>\n",
       "      <td>Calexico, CA</td>\n",
       "      <td>55</td>\n",
       "      <td>4</td>\n",
       "      <td>3.0</td>\n",
       "      <td>2547</td>\n",
       "      <td>385100</td>\n",
       "    </tr>\n",
       "  </tbody>\n",
       "</table>\n",
       "</div>"
      ],
      "text/plain": [
       "   image_id                 street             city  city_code  bed  bath  \\\n",
       "0         0  1317 Van Buren Avenue  Salton City, CA        317    3   2.0   \n",
       "1         1         124 C Street W      Brawley, CA         48    3   2.0   \n",
       "2         2        2304 Clark Road     Imperial, CA        152    3   1.0   \n",
       "3         3     755 Brawley Avenue      Brawley, CA         48    3   1.0   \n",
       "4         4  2207 R Carrillo Court     Calexico, CA         55    4   3.0   \n",
       "\n",
       "   sqft   price  \n",
       "0  1560  201900  \n",
       "1   713  228500  \n",
       "2   800  273950  \n",
       "3  1082  350000  \n",
       "4  2547  385100  "
      ]
     },
     "execution_count": 281,
     "metadata": {},
     "output_type": "execute_result"
    }
   ],
   "source": [
    "##### dataset\n",
    "modified = pd.read_csv(\"../data/modified_data.csv\")\n",
    "modified.head()"
   ]
  },
  {
   "cell_type": "code",
   "execution_count": 282,
   "metadata": {},
   "outputs": [],
   "source": [
    "##### copy dataset\n",
    "data = modified.copy()"
   ]
  },
  {
   "cell_type": "code",
   "execution_count": 283,
   "metadata": {},
   "outputs": [],
   "source": [
    "##### set price range\n",
    "data['price_range'] = data['price'].apply(pricing)"
   ]
  },
  {
   "cell_type": "code",
   "execution_count": 284,
   "metadata": {},
   "outputs": [
    {
     "data": {
      "text/html": [
       "<div>\n",
       "<style scoped>\n",
       "    .dataframe tbody tr th:only-of-type {\n",
       "        vertical-align: middle;\n",
       "    }\n",
       "\n",
       "    .dataframe tbody tr th {\n",
       "        vertical-align: top;\n",
       "    }\n",
       "\n",
       "    .dataframe thead th {\n",
       "        text-align: right;\n",
       "    }\n",
       "</style>\n",
       "<table border=\"1\" class=\"dataframe\">\n",
       "  <thead>\n",
       "    <tr style=\"text-align: right;\">\n",
       "      <th></th>\n",
       "      <th>image_id</th>\n",
       "      <th>street</th>\n",
       "      <th>city</th>\n",
       "      <th>city_code</th>\n",
       "      <th>bed</th>\n",
       "      <th>bath</th>\n",
       "      <th>sqft</th>\n",
       "      <th>price</th>\n",
       "      <th>price_range</th>\n",
       "    </tr>\n",
       "  </thead>\n",
       "  <tbody>\n",
       "    <tr>\n",
       "      <th>0</th>\n",
       "      <td>0</td>\n",
       "      <td>1317 Van Buren Avenue</td>\n",
       "      <td>Salton City, CA</td>\n",
       "      <td>317</td>\n",
       "      <td>3</td>\n",
       "      <td>2.0</td>\n",
       "      <td>1560</td>\n",
       "      <td>201900</td>\n",
       "      <td>0</td>\n",
       "    </tr>\n",
       "    <tr>\n",
       "      <th>1</th>\n",
       "      <td>1</td>\n",
       "      <td>124 C Street W</td>\n",
       "      <td>Brawley, CA</td>\n",
       "      <td>48</td>\n",
       "      <td>3</td>\n",
       "      <td>2.0</td>\n",
       "      <td>713</td>\n",
       "      <td>228500</td>\n",
       "      <td>0</td>\n",
       "    </tr>\n",
       "    <tr>\n",
       "      <th>2</th>\n",
       "      <td>2</td>\n",
       "      <td>2304 Clark Road</td>\n",
       "      <td>Imperial, CA</td>\n",
       "      <td>152</td>\n",
       "      <td>3</td>\n",
       "      <td>1.0</td>\n",
       "      <td>800</td>\n",
       "      <td>273950</td>\n",
       "      <td>0</td>\n",
       "    </tr>\n",
       "    <tr>\n",
       "      <th>3</th>\n",
       "      <td>3</td>\n",
       "      <td>755 Brawley Avenue</td>\n",
       "      <td>Brawley, CA</td>\n",
       "      <td>48</td>\n",
       "      <td>3</td>\n",
       "      <td>1.0</td>\n",
       "      <td>1082</td>\n",
       "      <td>350000</td>\n",
       "      <td>0</td>\n",
       "    </tr>\n",
       "    <tr>\n",
       "      <th>4</th>\n",
       "      <td>4</td>\n",
       "      <td>2207 R Carrillo Court</td>\n",
       "      <td>Calexico, CA</td>\n",
       "      <td>55</td>\n",
       "      <td>4</td>\n",
       "      <td>3.0</td>\n",
       "      <td>2547</td>\n",
       "      <td>385100</td>\n",
       "      <td>0</td>\n",
       "    </tr>\n",
       "    <tr>\n",
       "      <th>...</th>\n",
       "      <td>...</td>\n",
       "      <td>...</td>\n",
       "      <td>...</td>\n",
       "      <td>...</td>\n",
       "      <td>...</td>\n",
       "      <td>...</td>\n",
       "      <td>...</td>\n",
       "      <td>...</td>\n",
       "      <td>...</td>\n",
       "    </tr>\n",
       "    <tr>\n",
       "      <th>15469</th>\n",
       "      <td>15469</td>\n",
       "      <td>4156 Sterlingview Drive</td>\n",
       "      <td>Moorpark, CA</td>\n",
       "      <td>227</td>\n",
       "      <td>5</td>\n",
       "      <td>4.1</td>\n",
       "      <td>4092</td>\n",
       "      <td>949000</td>\n",
       "      <td>1</td>\n",
       "    </tr>\n",
       "    <tr>\n",
       "      <th>15470</th>\n",
       "      <td>15470</td>\n",
       "      <td>4355 Avenida Prado</td>\n",
       "      <td>Thousand Oaks, CA</td>\n",
       "      <td>372</td>\n",
       "      <td>5</td>\n",
       "      <td>3.0</td>\n",
       "      <td>2773</td>\n",
       "      <td>949900</td>\n",
       "      <td>1</td>\n",
       "    </tr>\n",
       "    <tr>\n",
       "      <th>15471</th>\n",
       "      <td>15471</td>\n",
       "      <td>12717 Koenigstein Rd Road</td>\n",
       "      <td>Santa Paula, CA</td>\n",
       "      <td>338</td>\n",
       "      <td>3</td>\n",
       "      <td>2.0</td>\n",
       "      <td>1576</td>\n",
       "      <td>920000</td>\n",
       "      <td>1</td>\n",
       "    </tr>\n",
       "    <tr>\n",
       "      <th>15472</th>\n",
       "      <td>15472</td>\n",
       "      <td>36 Kunkle Street</td>\n",
       "      <td>Oak View, CA</td>\n",
       "      <td>253</td>\n",
       "      <td>4</td>\n",
       "      <td>2.0</td>\n",
       "      <td>2086</td>\n",
       "      <td>997000</td>\n",
       "      <td>1</td>\n",
       "    </tr>\n",
       "    <tr>\n",
       "      <th>15473</th>\n",
       "      <td>15473</td>\n",
       "      <td>4562 Eastbourne Bay</td>\n",
       "      <td>Oxnard, CA</td>\n",
       "      <td>261</td>\n",
       "      <td>2</td>\n",
       "      <td>2.0</td>\n",
       "      <td>1216</td>\n",
       "      <td>975000</td>\n",
       "      <td>1</td>\n",
       "    </tr>\n",
       "  </tbody>\n",
       "</table>\n",
       "<p>15474 rows × 9 columns</p>\n",
       "</div>"
      ],
      "text/plain": [
       "       image_id                     street               city  city_code  bed  \\\n",
       "0             0      1317 Van Buren Avenue    Salton City, CA        317    3   \n",
       "1             1             124 C Street W        Brawley, CA         48    3   \n",
       "2             2            2304 Clark Road       Imperial, CA        152    3   \n",
       "3             3         755 Brawley Avenue        Brawley, CA         48    3   \n",
       "4             4      2207 R Carrillo Court       Calexico, CA         55    4   \n",
       "...         ...                        ...                ...        ...  ...   \n",
       "15469     15469    4156 Sterlingview Drive       Moorpark, CA        227    5   \n",
       "15470     15470         4355 Avenida Prado  Thousand Oaks, CA        372    5   \n",
       "15471     15471  12717 Koenigstein Rd Road    Santa Paula, CA        338    3   \n",
       "15472     15472           36 Kunkle Street       Oak View, CA        253    4   \n",
       "15473     15473        4562 Eastbourne Bay         Oxnard, CA        261    2   \n",
       "\n",
       "       bath  sqft   price  price_range  \n",
       "0       2.0  1560  201900            0  \n",
       "1       2.0   713  228500            0  \n",
       "2       1.0   800  273950            0  \n",
       "3       1.0  1082  350000            0  \n",
       "4       3.0  2547  385100            0  \n",
       "...     ...   ...     ...          ...  \n",
       "15469   4.1  4092  949000            1  \n",
       "15470   3.0  2773  949900            1  \n",
       "15471   2.0  1576  920000            1  \n",
       "15472   2.0  2086  997000            1  \n",
       "15473   2.0  1216  975000            1  \n",
       "\n",
       "[15474 rows x 9 columns]"
      ]
     },
     "execution_count": 284,
     "metadata": {},
     "output_type": "execute_result"
    }
   ],
   "source": [
    "data"
   ]
  },
  {
   "cell_type": "code",
   "execution_count": 285,
   "metadata": {},
   "outputs": [],
   "source": [
    "##### independent variables and dependent variable\n",
    "X=data.drop(['image_id', 'street', 'city', 'price', 'price_range'], axis=1)\n",
    "y=data['price_range']\n",
    "y=np.array(y)"
   ]
  },
  {
   "cell_type": "code",
   "execution_count": 286,
   "metadata": {},
   "outputs": [
    {
     "name": "stdout",
     "output_type": "stream",
     "text": [
      "(10831, 4)\n",
      "(4643, 4)\n",
      "(10831,)\n",
      "(4643,)\n"
     ]
    }
   ],
   "source": [
    "##### split data into training and test\n",
    "X_train, X_test, y_train, y_test = train_test_split(X, y, test_size = 0.3, random_state = random_state)\n",
    "print(X_train.shape)\n",
    "print(X_test.shape)\n",
    "print(y_train.shape)\n",
    "print(y_test.shape)"
   ]
  },
  {
   "cell_type": "code",
   "execution_count": 287,
   "metadata": {},
   "outputs": [
    {
     "name": "stdout",
     "output_type": "stream",
     "text": [
      "Fitting 5 folds for each of 1 candidates, totalling 5 fits\n"
     ]
    },
    {
     "name": "stderr",
     "output_type": "stream",
     "text": [
      "[Parallel(n_jobs=1)]: Using backend SequentialBackend with 1 concurrent workers.\n",
      "[Parallel(n_jobs=1)]: Done 300 out of 300 | elapsed:    3.2s finished\n"
     ]
    },
    {
     "name": "stdout",
     "output_type": "stream",
     "text": [
      "best parameters: {'max_depth': None, 'max_features': 'auto', 'min_samples_leaf': 1, 'n_estimators': 300, 'oob_score': True}\n",
      "RandomForestClassifier(n_estimators=300, oob_score=True, random_state=10,\n",
      "                       verbose=1)\n",
      "Train dataset:\n"
     ]
    },
    {
     "name": "stderr",
     "output_type": "stream",
     "text": [
      "[Parallel(n_jobs=1)]: Using backend SequentialBackend with 1 concurrent workers.\n",
      "[Parallel(n_jobs=1)]: Done 300 out of 300 | elapsed:    0.6s finished\n",
      "[Parallel(n_jobs=1)]: Using backend SequentialBackend with 1 concurrent workers.\n"
     ]
    },
    {
     "name": "stdout",
     "output_type": "stream",
     "text": [
      "accuracy: 0.998246\n",
      "precision: 0.998544\n",
      "recall: 0.998162\n",
      "Test dataset:\n"
     ]
    },
    {
     "name": "stderr",
     "output_type": "stream",
     "text": [
      "[Parallel(n_jobs=1)]: Done 300 out of 300 | elapsed:    0.3s finished\n"
     ]
    },
    {
     "name": "stdout",
     "output_type": "stream",
     "text": [
      "accuracy: 0.779884\n",
      "precision: 0.760217\n",
      "recall: 0.711314\n",
      "Fitting 5 folds for each of 1 candidates, totalling 5 fits\n",
      "      Iter       Train Loss      OOB Improve   Remaining Time \n",
      "         1           0.9497           0.0197            1.33m\n",
      "         2           0.9258           0.0176            1.31m\n",
      "         3           0.9187           0.0157            1.29m\n",
      "         4           0.8912           0.0149            1.29m\n",
      "         5           0.8709           0.0130            1.29m\n",
      "         6           0.8795           0.0119            1.28m\n",
      "         7           0.8567           0.0099            1.28m\n",
      "         8           0.8599           0.0092            1.28m\n",
      "         9           0.8304           0.0094            1.28m\n",
      "        10           0.8354           0.0087            1.30m\n",
      "        20           0.7680           0.0043            1.36m\n",
      "        30           0.7224           0.0029            1.39m\n",
      "        40           0.6914           0.0031            1.39m\n",
      "        50           0.6827           0.0016            1.40m\n",
      "        60           0.6509           0.0031            1.40m\n",
      "        70           0.6162           0.0006            1.39m\n",
      "        80           0.6061          -0.0001            1.39m\n",
      "        90           0.5945           0.0010            1.39m\n",
      "       100           0.5965           0.0000            1.39m\n",
      "       200           0.5183          -0.0001            1.34m\n",
      "       300           0.4535          -0.0001            1.28m\n",
      "       400           0.4213          -0.0003            1.23m\n",
      "       500           0.3618          -0.0003            1.18m\n",
      "       600           0.3465          -0.0003            1.14m\n",
      "       700           0.3210          -0.0002            1.11m\n",
      "       800           0.3175          -0.0001            1.07m\n",
      "       900           0.2908          -0.0002            1.04m\n",
      "      1000           0.2733          -0.0002            1.01m\n",
      "      2000           0.1630          -0.0002           42.54s\n",
      "      3000           0.1061          -0.0001           25.47s\n",
      "      4000           0.0760          -0.0001            8.47s\n",
      "best parameters: {'learning_rate': 0.05, 'max_depth': 5, 'max_features': 'auto', 'n_estimators': 4500, 'subsample': 0.15}\n",
      "GradientBoostingClassifier(learning_rate=0.05, max_depth=5, max_features='auto',\n",
      "                           n_estimators=4500, random_state=10, subsample=0.15,\n",
      "                           verbose=1)\n",
      "Train dataset:\n",
      "accuracy: 0.997692\n",
      "precision: 0.998161\n",
      "recall: 0.997383\n",
      "Test dataset:\n",
      "accuracy: 0.839113\n",
      "precision: 0.816719\n",
      "recall: 0.785035\n"
     ]
    }
   ],
   "source": [
    "##### models\n",
    "model_rf, train_result_rf, test_result_rf = classify_model(RandomForestClassifier(random_state=random_state, verbose=1), param_grid_rf, X_train, X_test,  y_train, y_test)\n",
    "model_gbr, train_result_gbr, test_result_gbr = classify_model(GradientBoostingClassifier(random_state=random_state, verbose=1), param_grid_gbr, X_train, X_test, y_train, y_test)"
   ]
  },
  {
   "cell_type": "code",
   "execution_count": 288,
   "metadata": {},
   "outputs": [
    {
     "data": {
      "image/png": "[encoded data removed]",
      "text/plain": [
       "<Figure size 432x288 with 2 Axes>"
      ]
     },
     "metadata": {
      "needs_background": "light"
     },
     "output_type": "display_data"
    }
   ],
   "source": [
    "cm = confusion_matrix(y_test, test_result_gbr[1])\n",
    "plot_confusion_matrix(model_gbr[0], X_test, y_test, cmap=plt.cm.Blues)  \n",
    "plt.show()"
   ]
  },
  {
   "cell_type": "code",
   "execution_count": 289,
   "metadata": {},
   "outputs": [
    {
     "data": {
      "text/plain": [
       "(0.8391126426879173,\n",
       " array([1, 0, 1, ..., 0, 0, 1]),\n",
       " 0.8167187432603185,\n",
       " 0.7850349316000315)"
      ]
     },
     "execution_count": 289,
     "metadata": {},
     "output_type": "execute_result"
    }
   ],
   "source": [
    "test_result_gbr"
   ]
  },
  {
   "cell_type": "code",
   "execution_count": 290,
   "metadata": {},
   "outputs": [
    {
     "data": {
      "text/plain": [
       "(0.7798836958862804,\n",
       " array([1, 0, 1, ..., 0, 0, 1]),\n",
       " 0.7602170331125002,\n",
       " 0.711313990968733)"
      ]
     },
     "execution_count": 290,
     "metadata": {},
     "output_type": "execute_result"
    }
   ],
   "source": [
    "test_result_rf"
   ]
  }
 ],
 "metadata": {
  "kernelspec": {
   "display_name": "Python 3",
   "language": "python",
   "name": "python3"
  },
  "language_info": {
   "codemirror_mode": {
    "name": "ipython",
    "version": 3
   },
   "file_extension": ".py",
   "mimetype": "text/x-python",
   "name": "python",
   "nbconvert_exporter": "python",
   "pygments_lexer": "ipython3",
   "version": "3.6.13"
  }
 },
 "nbformat": 4,
 "nbformat_minor": 4
}
