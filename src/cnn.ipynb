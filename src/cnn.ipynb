{
 "cells": [
  {
   "cell_type": "code",
   "execution_count": 261,
   "metadata": {},
   "outputs": [],
   "source": [
    "##### import\n",
    "import numpy as np\n",
    "import pandas as pd\n",
    "import matplotlib.pyplot as plt\n",
    "\n",
    "from tensorflow import keras\n",
    "from tensorflow.keras.preprocessing.image import ImageDataGenerator\n",
    "\n",
    "from tensorflow.keras.models import Sequential\n",
    "from tensorflow.keras.layers import Dense, Dropout, Activation, Flatten, BatchNormalization\n",
    "from tensorflow.keras.layers import Conv2D, MaxPooling2D\n",
    "from tensorflow.keras.optimizers import Adam\n",
    "\n",
    "from tensorflow.keras import models"
   ]
  },
  {
   "cell_type": "code",
   "execution_count": 262,
   "metadata": {},
   "outputs": [],
   "source": [
    "def build_model(input_shape, kernel_size, pool_size, dropout, activation, n_classes, kernel_initializer):\n",
    "    \n",
    "    model = Sequential()\n",
    "    \n",
    "    ##### CNN layer 1\n",
    "    model.add(Conv2D(filters=64, kernel_size=kernel_size, kernel_initializer=kernel_initializer, input_shape=input_shape, padding = 'valid'))\n",
    "    model.add(BatchNormalization())\n",
    "    model.add(Activation(activation))\n",
    "    \n",
    "    model.add(MaxPooling2D(pool_size=pool_size))\n",
    "\n",
    "    \n",
    "    ##### CNN layer 2\n",
    "    model.add(Conv2D(filters=64, kernel_size=kernel_size, kernel_initializer=kernel_initializer, padding = 'valid'))\n",
    "    model.add(BatchNormalization())\n",
    "    model.add(Activation(activation))\n",
    "    \n",
    "    model.add(MaxPooling2D(pool_size=pool_size))\n",
    "\n",
    "    \n",
    "    model.add(Flatten())\n",
    "    model.add(Dropout(rate=dropout))\n",
    "    \n",
    "    model.add(Dense(16, activation=activation))\n",
    "    model.add(Dropout(rate=dropout))\n",
    "\n",
    "    model.add(Dense(n_classes, activation='softmax'))\n",
    "\n",
    "    return model"
   ]
  },
  {
   "cell_type": "code",
   "execution_count": 263,
   "metadata": {},
   "outputs": [],
   "source": [
    "##### create a data generator\n",
    "datagen_test = ImageDataGenerator(rescale=1./255)\n",
    "\n",
    "datagen_train = ImageDataGenerator(rescale=1./255,\n",
    "                             rotation_range=0.5,\n",
    "                             width_shift_range=0.05,\n",
    "                             height_shift_range=0.05,\n",
    "                             shear_range=0.05,\n",
    "                             zoom_range=0.05,\n",
    "                             horizontal_flip=True,\n",
    "                             fill_mode='nearest')"
   ]
  },
  {
   "cell_type": "code",
   "execution_count": 264,
   "metadata": {},
   "outputs": [
    {
     "name": "stdout",
     "output_type": "stream",
     "text": [
      "Found 10832 images belonging to 3 classes.\n",
      "Found 1547 images belonging to 3 classes.\n",
      "Found 3095 images belonging to 3 classes.\n"
     ]
    }
   ],
   "source": [
    "##### load and iterate training, validation, test dataset\n",
    "train_gen = datagen_train.flow_from_directory('../image2/train/', \n",
    "                                        target_size=(300, 300), \n",
    "                                        class_mode='categorical', \n",
    "                                        batch_size=32, \n",
    "                                        save_to_dir=None,\n",
    "                                        color_mode = 'rgb', \n",
    "                                        shuffle=True)\n",
    "\n",
    "val_gen = datagen_test.flow_from_directory('../image2/validation/', \n",
    "                                      target_size=(300, 300), \n",
    "                                      class_mode='categorical', \n",
    "                                      batch_size=32, \n",
    "                                      save_to_dir=None, \n",
    "                                      color_mode = 'rgb', \n",
    "                                      shuffle=True)\n",
    "\n",
    "test_gen = datagen_test.flow_from_directory('../image2/test/', \n",
    "                                       target_size=(300, 300), \n",
    "                                       class_mode='categorical', \n",
    "                                       batch_size=32, \n",
    "                                       save_to_dir=None,\n",
    "                                       color_mode = 'rgb', \n",
    "                                       shuffle=True)"
   ]
  },
  {
   "cell_type": "code",
   "execution_count": 265,
   "metadata": {},
   "outputs": [
    {
     "name": "stdout",
     "output_type": "stream",
     "text": [
      "Model: \"sequential_42\"\n",
      "_________________________________________________________________\n",
      "Layer (type)                 Output Shape              Param #   \n",
      "=================================================================\n",
      "conv2d_84 (Conv2D)           (None, 298, 298, 64)      1792      \n",
      "_________________________________________________________________\n",
      "batch_normalization_84 (Batc (None, 298, 298, 64)      256       \n",
      "_________________________________________________________________\n",
      "activation_84 (Activation)   (None, 298, 298, 64)      0         \n",
      "_________________________________________________________________\n",
      "max_pooling2d_83 (MaxPooling (None, 149, 149, 64)      0         \n",
      "_________________________________________________________________\n",
      "conv2d_85 (Conv2D)           (None, 147, 147, 64)      36928     \n",
      "_________________________________________________________________\n",
      "batch_normalization_85 (Batc (None, 147, 147, 64)      256       \n",
      "_________________________________________________________________\n",
      "activation_85 (Activation)   (None, 147, 147, 64)      0         \n",
      "_________________________________________________________________\n",
      "max_pooling2d_84 (MaxPooling (None, 73, 73, 64)        0         \n",
      "_________________________________________________________________\n",
      "flatten_42 (Flatten)         (None, 341056)            0         \n",
      "_________________________________________________________________\n",
      "dropout_84 (Dropout)         (None, 341056)            0         \n",
      "_________________________________________________________________\n",
      "dense_84 (Dense)             (None, 16)                5456912   \n",
      "_________________________________________________________________\n",
      "dropout_85 (Dropout)         (None, 16)                0         \n",
      "_________________________________________________________________\n",
      "dense_85 (Dense)             (None, 3)                 51        \n",
      "=================================================================\n",
      "Total params: 5,496,195\n",
      "Trainable params: 5,495,939\n",
      "Non-trainable params: 256\n",
      "_________________________________________________________________\n",
      "learning_rate: 0.001\n",
      "Epoch 1/30\n",
      "135/135 [==============================] - 1163s 9s/step - loss: 5.5056 - accuracy: 0.5114 - val_loss: 1.0594 - val_accuracy: 0.5258\n",
      "Epoch 2/30\n",
      "135/135 [==============================] - 1118s 8s/step - loss: 1.0517 - accuracy: 0.5212 - val_loss: 1.0317 - val_accuracy: 0.5188\n",
      "Epoch 3/30\n",
      "135/135 [==============================] - 1095s 8s/step - loss: 1.0206 - accuracy: 0.5336 - val_loss: 1.0128 - val_accuracy: 0.5242\n",
      "Epoch 4/30\n",
      "135/135 [==============================] - 1086s 8s/step - loss: 1.0051 - accuracy: 0.5247 - val_loss: 0.9975 - val_accuracy: 0.5188\n",
      "Epoch 5/30\n",
      "135/135 [==============================] - 1093s 8s/step - loss: 0.9967 - accuracy: 0.5257 - val_loss: 1.0022 - val_accuracy: 0.5031\n",
      "Epoch 6/30\n",
      "135/135 [==============================] - 1091s 8s/step - loss: 0.9866 - accuracy: 0.5233 - val_loss: 0.9879 - val_accuracy: 0.5148\n",
      "Epoch 7/30\n",
      "135/135 [==============================] - 1086s 8s/step - loss: 0.9785 - accuracy: 0.5295 - val_loss: 0.9705 - val_accuracy: 0.5336\n",
      "Epoch 8/30\n",
      "135/135 [==============================] - 1083s 8s/step - loss: 0.9879 - accuracy: 0.5213 - val_loss: 0.9822 - val_accuracy: 0.5188\n",
      "Epoch 9/30\n",
      "135/135 [==============================] - 1094s 8s/step - loss: 0.9675 - accuracy: 0.5377 - val_loss: 0.9814 - val_accuracy: 0.5227\n",
      "Epoch 10/30\n",
      "135/135 [==============================] - 1086s 8s/step - loss: 0.9734 - accuracy: 0.5352 - val_loss: 0.9850 - val_accuracy: 0.5156\n",
      "Epoch 11/30\n",
      "135/135 [==============================] - 1086s 8s/step - loss: 0.9637 - accuracy: 0.5425 - val_loss: 0.9775 - val_accuracy: 0.5180\n",
      "Epoch 12/30\n",
      "135/135 [==============================] - 1091s 8s/step - loss: 0.9620 - accuracy: 0.5338 - val_loss: 0.9797 - val_accuracy: 0.5211\n",
      "Epoch 13/30\n",
      "135/135 [==============================] - 1087s 8s/step - loss: 0.9729 - accuracy: 0.5285 - val_loss: 0.9706 - val_accuracy: 0.5258\n",
      "Epoch 14/30\n",
      "135/135 [==============================] - 1086s 8s/step - loss: 0.9838 - accuracy: 0.5197 - val_loss: 0.9699 - val_accuracy: 0.5273\n",
      "Epoch 15/30\n",
      "135/135 [==============================] - 1098s 8s/step - loss: 0.9635 - accuracy: 0.5416 - val_loss: 0.9837 - val_accuracy: 0.5141\n",
      "Epoch 16/30\n",
      "135/135 [==============================] - 1109s 8s/step - loss: 0.9745 - accuracy: 0.5341 - val_loss: 0.9743 - val_accuracy: 0.5234\n",
      "Epoch 17/30\n",
      "135/135 [==============================] - 1086s 8s/step - loss: 0.9694 - accuracy: 0.5383 - val_loss: 0.9770 - val_accuracy: 0.5227\n",
      "Epoch 18/30\n",
      "135/135 [==============================] - 1082s 8s/step - loss: 0.9688 - accuracy: 0.5332 - val_loss: 0.9718 - val_accuracy: 0.5227\n",
      "Epoch 19/30\n",
      "135/135 [==============================] - 1094s 8s/step - loss: 0.9880 - accuracy: 0.5198 - val_loss: 0.9748 - val_accuracy: 0.5219\n",
      "Epoch 20/30\n",
      "135/135 [==============================] - 1085s 8s/step - loss: 0.9756 - accuracy: 0.5398 - val_loss: 0.9808 - val_accuracy: 0.5172\n",
      "Epoch 21/30\n",
      "135/135 [==============================] - 1088s 8s/step - loss: 0.9558 - accuracy: 0.5536 - val_loss: 0.9766 - val_accuracy: 0.5250\n",
      "Epoch 22/30\n",
      "135/135 [==============================] - 1090s 8s/step - loss: 0.9780 - accuracy: 0.5251 - val_loss: 0.9775 - val_accuracy: 0.5211\n",
      "Epoch 23/30\n",
      "135/135 [==============================] - 1093s 8s/step - loss: 0.9531 - accuracy: 0.5403 - val_loss: 0.9861 - val_accuracy: 0.5102\n",
      "Epoch 24/30\n",
      "135/135 [==============================] - 1086s 8s/step - loss: 0.9731 - accuracy: 0.5340 - val_loss: 0.9795 - val_accuracy: 0.5094\n",
      "Epoch 25/30\n",
      "135/135 [==============================] - 1089s 8s/step - loss: 0.9869 - accuracy: 0.5153 - val_loss: 0.9832 - val_accuracy: 0.5164\n",
      "Epoch 26/30\n",
      "135/135 [==============================] - 1093s 8s/step - loss: 0.9549 - accuracy: 0.5455 - val_loss: 0.9897 - val_accuracy: 0.5031\n",
      "Epoch 27/30\n",
      "135/135 [==============================] - 1089s 8s/step - loss: 0.9697 - accuracy: 0.5363 - val_loss: 0.9851 - val_accuracy: 0.5102\n",
      "Epoch 28/30\n",
      "135/135 [==============================] - 1091s 8s/step - loss: 0.9828 - accuracy: 0.5180 - val_loss: 0.9765 - val_accuracy: 0.5188\n",
      "Epoch 29/30\n",
      "135/135 [==============================] - 1091s 8s/step - loss: 0.9786 - accuracy: 0.5231 - val_loss: 0.9900 - val_accuracy: 0.5039\n",
      "Epoch 30/30\n",
      "135/135 [==============================] - 1088s 8s/step - loss: 0.9897 - accuracy: 0.5102 - val_loss: 0.9867 - val_accuracy: 0.5102\n"
     ]
    },
    {
     "name": "stderr",
     "output_type": "stream",
     "text": [
      "C:\\Users\\wcjohnchen\\anaconda3\\lib\\site-packages\\tensorflow\\python\\keras\\engine\\training.py:1877: UserWarning: `Model.evaluate_generator` is deprecated and will be removed in a future version. Please use `Model.evaluate`, which supports generators.\n",
      "  warnings.warn('`Model.evaluate_generator` is deprecated and '\n"
     ]
    },
    {
     "name": "stdout",
     "output_type": "stream",
     "text": [
      "train model score: [0.8775137066841125, 0.65625]\n",
      "test model score: [1.0789062976837158, 0.46875]\n"
     ]
    }
   ],
   "source": [
    "input_shape = (300,300,3)\n",
    "kernel_size = (3, 3)\n",
    "pool_size = (2, 2)\n",
    "dropout = 0.5\n",
    "activation='relu'\n",
    "kernel_initializer = 'he_normal'\n",
    "n_classes = 3\n",
    "n_epoch = 30\n",
    "\n",
    "learning_rate = [0.001]\n",
    "\n",
    "##### build model\n",
    "model = build_model(input_shape, kernel_size, pool_size, dropout, activation, n_classes, kernel_initializer)\n",
    "model.summary()\n",
    "\n",
    "train_result=[]\n",
    "test_result=[]\n",
    "for rate in learning_rate:\n",
    "    \n",
    "    print(\"learning_rate:\",rate)\n",
    "    model.compile(loss='categorical_crossentropy', \n",
    "                  optimizer=Adam(learning_rate=rate), \n",
    "                  metrics=['accuracy'])\n",
    "\n",
    "    history = model.fit_generator(train_gen,\n",
    "                        epochs=n_epoch, \n",
    "                        validation_data=val_gen, \n",
    "                        steps_per_epoch=135, ## steps_per_epoch = TotalTrainingSamples / TrainingBatchSize\n",
    "                        validation_steps=40) ## validation_steps = TotalvalidationSamples / ValidationBatchSize\n",
    "    \n",
    "    score_train = model.evaluate_generator(train_gen, steps=1)\n",
    "    score_test = model.evaluate_generator(test_gen, steps=1)\n",
    "    \n",
    "    train_result.append(score_train)\n",
    "    test_result.append(score_test)\n",
    "    \n",
    "    print(\"train model score:\", score_train)\n",
    "    print(\"test model score:\", score_test)"
   ]
  },
  {
   "cell_type": "code",
   "execution_count": 266,
   "metadata": {},
   "outputs": [],
   "source": [
    "#model.save('../model/model3.h5')\n",
    "#m = models.load_model('../model/model1.h5')\n",
    "#m.summary()"
   ]
  },
  {
   "cell_type": "code",
   "execution_count": 288,
   "metadata": {},
   "outputs": [],
   "source": [
    "#fig, ax = plt.subplots(figsize=(8,6))\n",
    "#[ax.plot(history.history[i], label=i) for i in history.history.keys()]\n",
    "#plt.legend()\n",
    "#plt.show()"
   ]
  },
  {
   "cell_type": "code",
   "execution_count": 287,
   "metadata": {},
   "outputs": [
    {
     "data": {
      "image/png": "[encoded data removed]",
      "text/plain": [
       "<Figure size 576x432 with 1 Axes>"
      ]
     },
     "metadata": {
      "needs_background": "light"
     },
     "output_type": "display_data"
    }
   ],
   "source": [
    "fig, ax = plt.subplots(figsize=(8,6))\n",
    "ax.plot(history.history['accuracy'], color='red')\n",
    "ax.plot(history.history['val_accuracy'], color='orange')\n",
    "plt.legend(['accuracy', 'val_accuracy'])\n",
    "plt.show()"
   ]
  },
  {
   "cell_type": "code",
   "execution_count": 290,
   "metadata": {},
   "outputs": [
    {
     "data": {
      "image/png": "[encoded data removed]",
      "text/plain": [
       "<Figure size 576x432 with 1 Axes>"
      ]
     },
     "metadata": {
      "needs_background": "light"
     },
     "output_type": "display_data"
    }
   ],
   "source": [
    "fig, ax = plt.subplots(figsize=(8,6))\n",
    "ax.plot(history.history['loss'], color='blue')\n",
    "ax.plot(history.history['val_loss'], color='green')\n",
    "plt.legend(['loss', 'val_loss'])\n",
    "plt.show()"
   ]
  },
  {
   "cell_type": "code",
   "execution_count": null,
   "metadata": {},
   "outputs": [],
   "source": []
  }
 ],
 "metadata": {
  "kernelspec": {
   "display_name": "Python 3",
   "language": "python",
   "name": "python3"
  },
  "language_info": {
   "codemirror_mode": {
    "name": "ipython",
    "version": 3
   },
   "file_extension": ".py",
   "mimetype": "text/x-python",
   "name": "python",
   "nbconvert_exporter": "python",
   "pygments_lexer": "ipython3",
   "version": "3.7.6"
  }
 },
 "nbformat": 4,
 "nbformat_minor": 4
}
