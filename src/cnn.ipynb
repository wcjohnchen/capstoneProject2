{
 "cells": [
  {
   "cell_type": "code",
   "execution_count": 301,
   "metadata": {},
   "outputs": [],
   "source": [
    "##### import\n",
    "import numpy as np\n",
    "import pandas as pd\n",
    "import matplotlib.pyplot as plt\n",
    "\n",
    "from tensorflow import keras\n",
    "from tensorflow.keras.preprocessing.image import ImageDataGenerator\n",
    "\n",
    "from tensorflow.keras.models import Sequential\n",
    "from tensorflow.keras.layers import Dense, Dropout, Activation, Flatten, BatchNormalization\n",
    "from tensorflow.keras.layers import Conv2D, MaxPooling2D\n",
    "from tensorflow.keras.optimizers import Adam\n",
    "\n",
    "from tensorflow.keras import models\n",
    "from tensorflow.keras.callbacks import ModelCheckpoint"
   ]
  },
  {
   "cell_type": "code",
   "execution_count": 299,
   "metadata": {},
   "outputs": [],
   "source": [
    "def build_model(input_shape, kernel_size, pool_size, activation, n_classes):\n",
    "    \n",
    "    model = Sequential()\n",
    "    \n",
    "    ##### CNN layer 1\n",
    "    model.add(Conv2D(filters=64, kernel_size=kernel_size, input_shape=input_shape))\n",
    "    model.add(Activation(activation))\n",
    "    \n",
    "    model.add(MaxPooling2D(pool_size=pool_size))\n",
    "    model.add(Dropout(rate=0.1))\n",
    "\n",
    "    \n",
    "    ##### CNN layer 2\n",
    "    model.add(Conv2D(filters=64, kernel_size=kernel_size))\n",
    "    model.add(Activation(activation))\n",
    "    \n",
    "    model.add(MaxPooling2D(pool_size=pool_size))\n",
    "    model.add(Dropout(rate=0.1))\n",
    "\n",
    "    \n",
    "    model.add(Flatten())\n",
    "    #model.add(Dropout(rate=0.1))\n",
    "    \n",
    "    model.add(Dense(16, activation=activation))\n",
    "    #model.add(Dropout(rate=0.1))\n",
    "\n",
    "    model.add(Dense(n_classes, activation='softmax'))\n",
    "\n",
    "    return model"
   ]
  },
  {
   "cell_type": "code",
   "execution_count": null,
   "metadata": {},
   "outputs": [],
   "source": [
    "##### create a data generator\n",
    "datagen_test = ImageDataGenerator(rescale=1./255)\n",
    "\n",
    "datagen_train = ImageDataGenerator(rescale=1./255,\n",
    "                             rotation_range=0.5,\n",
    "                             width_shift_range=0.05,\n",
    "                             height_shift_range=0.05,\n",
    "                             shear_range=0.05,\n",
    "                             zoom_range=0.05,\n",
    "                             horizontal_flip=True,\n",
    "                             fill_mode='nearest')"
   ]
  },
  {
   "cell_type": "code",
   "execution_count": 300,
   "metadata": {},
   "outputs": [
    {
     "name": "stdout",
     "output_type": "stream",
     "text": [
      "Found 10832 images belonging to 3 classes.\n",
      "Found 1547 images belonging to 3 classes.\n",
      "Found 3095 images belonging to 3 classes.\n"
     ]
    }
   ],
   "source": [
    "##### load and iterate training, validation, test dataset\n",
    "train_gen = datagen_train.flow_from_directory('../images/train/', \n",
    "                                        target_size=(300, 300), \n",
    "                                        class_mode='categorical', \n",
    "                                        batch_size=32, \n",
    "                                        save_to_dir=None,\n",
    "                                        color_mode = 'rgb', \n",
    "                                        shuffle=True)\n",
    "\n",
    "val_gen = datagen_test.flow_from_directory('../images/validation/', \n",
    "                                      target_size=(300, 300), \n",
    "                                      class_mode='categorical', \n",
    "                                      batch_size=32, \n",
    "                                      save_to_dir=None, \n",
    "                                      color_mode = 'rgb', \n",
    "                                      shuffle=True)\n",
    "\n",
    "test_gen = datagen_test.flow_from_directory('../images/test/', \n",
    "                                       target_size=(300, 300), \n",
    "                                       class_mode='categorical', \n",
    "                                       batch_size=32, \n",
    "                                       save_to_dir=None,\n",
    "                                       color_mode = 'rgb', \n",
    "                                       shuffle=True)"
   ]
  },
  {
   "cell_type": "code",
   "execution_count": null,
   "metadata": {},
   "outputs": [],
   "source": [
    "input_shape = (300,300,3)\n",
    "kernel_size = (3, 3)\n",
    "pool_size = (2, 2)\n",
    "activation='relu'\n",
    "n_classes = 3\n",
    "n_epoch = 30\n",
    "\n",
    "learning_rate = [0.0001]\n",
    "\n",
    "##### build model\n",
    "model = build_model(input_shape, kernel_size, pool_size, dropout, activation, n_classes, kernel_initializer)\n",
    "model.summary()\n",
    "\n",
    "callback = ModelCheckpoint(filepath='../models/model00.h5', monitor='val_accuracy', mode='max', save_best_only=True)\n",
    "\n",
    "train_result=[]\n",
    "test_result=[]\n",
    "for rate in learning_rate:\n",
    "    \n",
    "    print(\"learning_rate:\",rate)\n",
    "    model.compile(loss='categorical_crossentropy', \n",
    "                  optimizer=Adam(learning_rate=rate), \n",
    "                  metrics=['accuracy', 'Precision', keras.metrics.Recall()])\n",
    "\n",
    "    history = model.fit_generator(train_gen, ### model.fit()\n",
    "                        epochs=n_epoch, \n",
    "                        validation_data=val_gen) \n",
    "                        ### steps_per_epoch = TotalTrainingSamples / TrainingBatchSize\n",
    "                        ### validation_steps = TotalvalidationSamples / ValidationBatchSize\n",
    "    \n",
    "    score_train = model.evaluate_generator(train_gen, steps=200) ### model.evaluate()\n",
    "    score_test = model.evaluate_generator(test_gen, steps=200)\n",
    "    \n",
    "    train_result.append(score_train)\n",
    "    test_result.append(score_test)\n",
    "    \n",
    "    print(\"train model score:\", score_train)\n",
    "    print(\"test model score:\", score_test)"
   ]
  },
  {
   "cell_type": "code",
   "execution_count": null,
   "metadata": {},
   "outputs": [],
   "source": [
    "##### graphs\n",
    "fig, ax = plt.subplots(figsize=(8,6))\n",
    "ax.plot(history.history['accuracy'], color='red')\n",
    "ax.plot(history.history['val_accuracy'], color='orange')\n",
    "ax.set_xlabel('Epoch')\n",
    "ax.set_ylabel('Accuracy')\n",
    "plt.legend(['Training accuracy', 'Validation accuracy'], frameon=False)\n",
    "plt.show()"
   ]
  },
  {
   "cell_type": "code",
   "execution_count": null,
   "metadata": {},
   "outputs": [],
   "source": [
    "fig, ax = plt.subplots(figsize=(8,6))\n",
    "ax.plot(history.history['loss'], color='blue')\n",
    "ax.plot(history.history['val_loss'], color='green')\n",
    "ax.set_xlabel('Epoch')\n",
    "ax.set_ylabel('Loss')\n",
    "plt.legend(['Training loss', 'Validation loss'], frameon=False)\n",
    "plt.show()"
   ]
  },
  {
   "cell_type": "code",
   "execution_count": 3,
   "metadata": {},
   "outputs": [],
   "source": [
    "##### load model\n",
    "#model.save('../model/model4.h5')\n",
    "#model = models.load_model('../model/model4.h5')\n",
    "#model.summary()"
   ]
  }
 ],
 "metadata": {
  "kernelspec": {
   "display_name": "Python 3",
   "language": "python",
   "name": "python3"
  },
  "language_info": {
   "codemirror_mode": {
    "name": "ipython",
    "version": 3
   },
   "file_extension": ".py",
   "mimetype": "text/x-python",
   "name": "python",
   "nbconvert_exporter": "python",
   "pygments_lexer": "ipython3",
   "version": "3.7.6"
  }
 },
 "nbformat": 4,
 "nbformat_minor": 4
}
