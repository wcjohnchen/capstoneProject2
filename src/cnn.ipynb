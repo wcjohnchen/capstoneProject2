{
 "cells": [
  {
   "cell_type": "code",
   "execution_count": null,
   "metadata": {},
   "outputs": [],
   "source": [
    "##### import\n",
    "import numpy as np\n",
    "import pandas as pd\n",
    "import matplotlib.pyplot as plt\n",
    "\n",
    "from tensorflow import keras\n",
    "from tensorflow.keras.preprocessing.image import ImageDataGenerator\n",
    "\n",
    "from tensorflow.keras.models import Sequential\n",
    "from tensorflow.keras.layers import Dense, Dropout, Activation, Flatten, BatchNormalization\n",
    "from tensorflow.keras.layers import Conv2D, MaxPooling2D\n",
    "from tensorflow.keras.optimizers import Adam\n",
    "\n",
    "from tensorflow.keras import models"
   ]
  },
  {
   "cell_type": "code",
   "execution_count": null,
   "metadata": {},
   "outputs": [],
   "source": [
    "def build_model(input_shape, kernel_size, pool_size, dropout, activation, n_classes, kernel_initializer):\n",
    "    \n",
    "    model = Sequential()\n",
    "    \n",
    "    ##### CNN layer 1\n",
    "    model.add(Conv2D(filters=64, kernel_size=kernel_size, kernel_initializer=kernel_initializer, input_shape=input_shape, padding = 'valid'))\n",
    "    model.add(BatchNormalization())\n",
    "    model.add(Activation(activation))\n",
    "    \n",
    "    model.add(MaxPooling2D(pool_size=pool_size))\n",
    "\n",
    "    \n",
    "    ##### CNN layer 2\n",
    "    model.add(Conv2D(filters=64, kernel_size=kernel_size, kernel_initializer=kernel_initializer, padding = 'valid'))\n",
    "    model.add(BatchNormalization())\n",
    "    model.add(Activation(activation))\n",
    "    \n",
    "    model.add(MaxPooling2D(pool_size=pool_size))\n",
    "\n",
    "    \n",
    "    model.add(Flatten())\n",
    "    model.add(Dropout(rate=dropout))\n",
    "    \n",
    "    model.add(Dense(16, activation=activation))\n",
    "    model.add(Dropout(rate=dropout))\n",
    "\n",
    "    model.add(Dense(n_classes, activation='softmax'))\n",
    "\n",
    "    return model"
   ]
  },
  {
   "cell_type": "code",
   "execution_count": null,
   "metadata": {},
   "outputs": [],
   "source": [
    "##### create a data generator\n",
    "datagen_test = ImageDataGenerator(rescale=1./255)\n",
    "\n",
    "datagen_train = ImageDataGenerator(rescale=1./255,\n",
    "                             rotation_range=0.5,\n",
    "                             width_shift_range=0.05,\n",
    "                             height_shift_range=0.05,\n",
    "                             shear_range=0.05,\n",
    "                             zoom_range=0.05,\n",
    "                             horizontal_flip=True,\n",
    "                             fill_mode='nearest')"
   ]
  },
  {
   "cell_type": "code",
   "execution_count": null,
   "metadata": {},
   "outputs": [],
   "source": [
    "##### load and iterate training, validation, test dataset\n",
    "train_gen = datagen_train.flow_from_directory('../images/train/', \n",
    "                                        target_size=(300, 300), \n",
    "                                        class_mode='categorical', \n",
    "                                        batch_size=32, \n",
    "                                        save_to_dir=None,\n",
    "                                        color_mode = 'rgb', \n",
    "                                        shuffle=True)\n",
    "\n",
    "val_gen = datagen_test.flow_from_directory('../images/validation/', \n",
    "                                      target_size=(300, 300), \n",
    "                                      class_mode='categorical', \n",
    "                                      batch_size=32, \n",
    "                                      save_to_dir=None, \n",
    "                                      color_mode = 'rgb', \n",
    "                                      shuffle=True)\n",
    "\n",
    "test_gen = datagen_test.flow_from_directory('../images/test/', \n",
    "                                       target_size=(300, 300), \n",
    "                                       class_mode='categorical', \n",
    "                                       batch_size=32, \n",
    "                                       save_to_dir=None,\n",
    "                                       color_mode = 'rgb', \n",
    "                                       shuffle=True)"
   ]
  },
  {
   "cell_type": "code",
   "execution_count": null,
   "metadata": {},
   "outputs": [],
   "source": [
    "input_shape = (300,300,3)\n",
    "kernel_size = (3, 3)\n",
    "pool_size = (2, 2)\n",
    "dropout = 0.5\n",
    "activation='relu'\n",
    "kernel_initializer = 'he_normal'\n",
    "n_classes = 3\n",
    "n_epoch = 30\n",
    "\n",
    "learning_rate = [0.001]\n",
    "\n",
    "##### build model\n",
    "model = build_model(input_shape, kernel_size, pool_size, dropout, activation, n_classes, kernel_initializer)\n",
    "model.summary()\n",
    "\n",
    "train_result=[]\n",
    "test_result=[]\n",
    "for rate in learning_rate:\n",
    "    \n",
    "    print(\"learning_rate:\",rate)\n",
    "    model.compile(loss='categorical_crossentropy', \n",
    "                  optimizer=Adam(learning_rate=rate), \n",
    "                  metrics=['accuracy'])\n",
    "\n",
    "    history = model.fit_generator(train_gen,\n",
    "                        epochs=n_epoch, \n",
    "                        validation_data=val_gen, \n",
    "                        steps_per_epoch=32, ## steps_per_epoch = TotalTrainingSamples / TrainingBatchSize\n",
    "                        validation_steps=16) ## validation_steps = TotalvalidationSamples / ValidationBatchSize\n",
    "    \n",
    "    score_train = model.evaluate_generator(train_gen, steps=1)\n",
    "    score_test = model.evaluate_generator(test_gen, steps=1)\n",
    "    \n",
    "    train_result.append(score_train)\n",
    "    test_result.append(score_test)\n",
    "    \n",
    "    print(\"train model score:\", score_train)\n",
    "    print(\"test model score:\", score_test)"
   ]
  },
  {
   "cell_type": "code",
   "execution_count": null,
   "metadata": {},
   "outputs": [],
   "source": [
    "#model.save('../model/model4.h5')\n",
    "#m = models.load_model('../model/model1.h5')\n",
    "#m.summary()"
   ]
  },
  {
   "cell_type": "code",
   "execution_count": null,
   "metadata": {},
   "outputs": [],
   "source": [
    "#fig, ax = plt.subplots(figsize=(8,6))\n",
    "#[ax.plot(history.history[i], label=i) for i in history.history.keys()]\n",
    "#plt.legend()\n",
    "#plt.show()"
   ]
  },
  {
   "cell_type": "code",
   "execution_count": null,
   "metadata": {},
   "outputs": [],
   "source": [
    "fig, ax = plt.subplots(figsize=(8,6))\n",
    "ax.plot(history.history['accuracy'], color='red')\n",
    "ax.plot(history.history['val_accuracy'], color='orange')\n",
    "ax.set_xlabel('Epoch')\n",
    "ax.set_ylabel('Accuracy')\n",
    "plt.legend(['accuracy', 'val_accuracy'])\n",
    "plt.show()"
   ]
  },
  {
   "cell_type": "code",
   "execution_count": null,
   "metadata": {},
   "outputs": [],
   "source": [
    "fig, ax = plt.subplots(figsize=(8,6))\n",
    "ax.plot(history.history['loss'], color='blue')\n",
    "ax.plot(history.history['val_loss'], color='green')\n",
    "ax.set_xlabel('Epoch')\n",
    "ax.set_ylabel('Loss')\n",
    "plt.legend(['loss', 'val_loss'])\n",
    "plt.show()"
   ]
  }
 ],
 "metadata": {
  "kernelspec": {
   "display_name": "Python 3",
   "language": "python",
   "name": "python3"
  },
  "language_info": {
   "codemirror_mode": {
    "name": "ipython",
    "version": 3
   },
   "file_extension": ".py",
   "mimetype": "text/x-python",
   "name": "python",
   "nbconvert_exporter": "python",
   "pygments_lexer": "ipython3",
   "version": "3.7.6"
  }
 },
 "nbformat": 4,
 "nbformat_minor": 4
}
