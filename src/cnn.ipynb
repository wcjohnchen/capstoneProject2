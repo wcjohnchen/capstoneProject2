{
 "cells": [
  {
   "cell_type": "code",
   "execution_count": 206,
   "metadata": {},
   "outputs": [],
   "source": [
    "##### import\n",
    "import numpy as np\n",
    "import pandas as pd\n",
    "import matplotlib.pyplot as plt\n",
    "\n",
    "from tensorflow import keras\n",
    "from tensorflow.keras.preprocessing.image import ImageDataGenerator\n",
    "\n",
    "from tensorflow.keras.models import Sequential\n",
    "from tensorflow.keras.layers import Dense, Dropout, Activation, Flatten, BatchNormalization\n",
    "from tensorflow.keras.layers import Conv2D, MaxPooling2D\n",
    "from tensorflow.keras.optimizers import Adam\n",
    "\n",
    "from tensorflow.keras import models"
   ]
  },
  {
   "cell_type": "code",
   "execution_count": 207,
   "metadata": {},
   "outputs": [],
   "source": [
    "def build_model(input_shape, kernel_size, pool_size, dropout, activation, n_classes, kernel_initializer):\n",
    "    \n",
    "    model = Sequential()\n",
    "    \n",
    "    ##### CNN layer 1\n",
    "    model.add(Conv2D(filters=64, kernel_size=kernel_size, kernel_initializer=kernel_initializer, input_shape=input_shape, padding = 'valid'))\n",
    "    model.add(BatchNormalization())\n",
    "    model.add(Activation(activation))\n",
    "    \n",
    "    model.add(MaxPooling2D(pool_size=pool_size))\n",
    "\n",
    "    \n",
    "    ##### CNN layer 2\n",
    "    model.add(Conv2D(filters=64, kernel_size=kernel_size, kernel_initializer=kernel_initializer, padding = 'valid'))\n",
    "    model.add(BatchNormalization())\n",
    "    model.add(Activation(activation))\n",
    "    \n",
    "    model.add(MaxPooling2D(pool_size=pool_size))\n",
    "\n",
    "    \n",
    "    model.add(Flatten())\n",
    "    model.add(Dropout(rate=dropout))\n",
    "    \n",
    "    model.add(Dense(16, activation=activation))\n",
    "    model.add(Dropout(rate=dropout))\n",
    "\n",
    "    model.add(Dense(n_classes, activation='softmax'))\n",
    "\n",
    "    return model"
   ]
  },
  {
   "cell_type": "code",
   "execution_count": 208,
   "metadata": {},
   "outputs": [],
   "source": [
    "##### create a data generator\n",
    "datagen_test = ImageDataGenerator(rescale=1./255)\n",
    "\n",
    "datagen_train = ImageDataGenerator(rescale=1./255,\n",
    "                             rotation_range=0.5,\n",
    "                             width_shift_range=0.05,\n",
    "                             height_shift_range=0.05,\n",
    "                             shear_range=0.05,\n",
    "                             zoom_range=0.05,\n",
    "                             horizontal_flip=True,\n",
    "                             fill_mode='nearest')"
   ]
  },
  {
   "cell_type": "code",
   "execution_count": 209,
   "metadata": {},
   "outputs": [
    {
     "name": "stdout",
     "output_type": "stream",
     "text": [
      "Found 10832 images belonging to 3 classes.\n",
      "Found 1547 images belonging to 3 classes.\n",
      "Found 3095 images belonging to 3 classes.\n"
     ]
    }
   ],
   "source": [
    "##### load and iterate training, validation, test dataset\n",
    "train_gen = datagen_train.flow_from_directory('../image2/train/', \n",
    "                                        target_size=(300, 300), \n",
    "                                        class_mode='categorical', \n",
    "                                        batch_size=32, \n",
    "                                        save_to_dir=None,\n",
    "                                        color_mode = 'rgb', \n",
    "                                        shuffle=True)\n",
    "\n",
    "val_gen = datagen_test.flow_from_directory('../image2/validation/', \n",
    "                                      target_size=(300, 300), \n",
    "                                      class_mode='categorical', \n",
    "                                      batch_size=32, \n",
    "                                      save_to_dir=None, \n",
    "                                      color_mode = 'rgb', \n",
    "                                      shuffle=True)\n",
    "\n",
    "test_gen = datagen_test.flow_from_directory('../image2/test/', \n",
    "                                       target_size=(300, 300), \n",
    "                                       class_mode='categorical', \n",
    "                                       batch_size=32, \n",
    "                                       save_to_dir=None,\n",
    "                                       color_mode = 'rgb', \n",
    "                                       shuffle=True)"
   ]
  },
  {
   "cell_type": "code",
   "execution_count": 210,
   "metadata": {},
   "outputs": [
    {
     "name": "stdout",
     "output_type": "stream",
     "text": [
      "Model: \"sequential_34\"\n",
      "_________________________________________________________________\n",
      "Layer (type)                 Output Shape              Param #   \n",
      "=================================================================\n",
      "conv2d_68 (Conv2D)           (None, 298, 298, 64)      1792      \n",
      "_________________________________________________________________\n",
      "batch_normalization_68 (Batc (None, 298, 298, 64)      256       \n",
      "_________________________________________________________________\n",
      "activation_68 (Activation)   (None, 298, 298, 64)      0         \n",
      "_________________________________________________________________\n",
      "max_pooling2d_68 (MaxPooling (None, 149, 149, 64)      0         \n",
      "_________________________________________________________________\n",
      "conv2d_69 (Conv2D)           (None, 147, 147, 64)      36928     \n",
      "_________________________________________________________________\n",
      "batch_normalization_69 (Batc (None, 147, 147, 64)      256       \n",
      "_________________________________________________________________\n",
      "activation_69 (Activation)   (None, 147, 147, 64)      0         \n",
      "_________________________________________________________________\n",
      "max_pooling2d_69 (MaxPooling (None, 73, 73, 64)        0         \n",
      "_________________________________________________________________\n",
      "flatten_34 (Flatten)         (None, 341056)            0         \n",
      "_________________________________________________________________\n",
      "dropout_68 (Dropout)         (None, 341056)            0         \n",
      "_________________________________________________________________\n",
      "dense_68 (Dense)             (None, 16)                5456912   \n",
      "_________________________________________________________________\n",
      "dropout_69 (Dropout)         (None, 16)                0         \n",
      "_________________________________________________________________\n",
      "dense_69 (Dense)             (None, 3)                 51        \n",
      "=================================================================\n",
      "Total params: 5,496,195\n",
      "Trainable params: 5,495,939\n",
      "Non-trainable params: 256\n",
      "_________________________________________________________________\n",
      "learning_rate: 0.01\n",
      "Epoch 1/20\n",
      "20/20 [==============================] - 232s 12s/step - loss: 32.8245 - accuracy: 0.4302 - val_loss: 1.0509 - val_accuracy: 0.5437\n",
      "Epoch 2/20\n",
      "20/20 [==============================] - 222s 11s/step - loss: 1.0419 - accuracy: 0.5439 - val_loss: 1.0246 - val_accuracy: 0.5219\n",
      "Epoch 3/20\n",
      "20/20 [==============================] - 235s 12s/step - loss: 1.0038 - accuracy: 0.5324 - val_loss: 0.9957 - val_accuracy: 0.4875\n",
      "Epoch 4/20\n",
      "20/20 [==============================] - 238s 12s/step - loss: 0.9887 - accuracy: 0.5348 - val_loss: 1.0074 - val_accuracy: 0.4906\n",
      "Epoch 5/20\n",
      "20/20 [==============================] - 265s 13s/step - loss: 0.9632 - accuracy: 0.5581 - val_loss: 0.9885 - val_accuracy: 0.5406\n",
      "Epoch 6/20\n",
      "20/20 [==============================] - 228s 11s/step - loss: 0.9849 - accuracy: 0.5225 - val_loss: 0.9475 - val_accuracy: 0.5562\n",
      "Epoch 7/20\n",
      "20/20 [==============================] - 220s 11s/step - loss: 0.9728 - accuracy: 0.5267 - val_loss: 0.9713 - val_accuracy: 0.5344\n",
      "Epoch 8/20\n",
      "20/20 [==============================] - 215s 11s/step - loss: 0.9562 - accuracy: 0.5406 - val_loss: 0.9436 - val_accuracy: 0.5531\n",
      "Epoch 9/20\n",
      "20/20 [==============================] - 221s 11s/step - loss: 0.9746 - accuracy: 0.5208 - val_loss: 0.9722 - val_accuracy: 0.5312\n",
      "Epoch 10/20\n",
      "20/20 [==============================] - 212s 11s/step - loss: 0.9509 - accuracy: 0.5336 - val_loss: 0.9466 - val_accuracy: 0.5562\n",
      "Epoch 11/20\n",
      "20/20 [==============================] - 199s 10s/step - loss: 0.9649 - accuracy: 0.5514 - val_loss: 0.9825 - val_accuracy: 0.5031\n",
      "Epoch 12/20\n",
      "20/20 [==============================] - 214s 11s/step - loss: 0.9970 - accuracy: 0.4953 - val_loss: 1.0142 - val_accuracy: 0.4906\n",
      "Epoch 13/20\n",
      "20/20 [==============================] - 209s 10s/step - loss: 0.9795 - accuracy: 0.5167 - val_loss: 0.9778 - val_accuracy: 0.5375\n",
      "Epoch 14/20\n",
      "20/20 [==============================] - 206s 10s/step - loss: 1.0079 - accuracy: 0.5070 - val_loss: 0.9962 - val_accuracy: 0.4969\n",
      "Epoch 15/20\n",
      "20/20 [==============================] - 190s 9s/step - loss: 0.9996 - accuracy: 0.5081 - val_loss: 0.9814 - val_accuracy: 0.5344\n",
      "Epoch 16/20\n",
      "20/20 [==============================] - 184s 9s/step - loss: 0.9683 - accuracy: 0.5498 - val_loss: 1.0228 - val_accuracy: 0.4906\n",
      "Epoch 17/20\n",
      "20/20 [==============================] - 175s 9s/step - loss: 0.9962 - accuracy: 0.5051 - val_loss: 0.9455 - val_accuracy: 0.5531\n",
      "Epoch 18/20\n",
      "20/20 [==============================] - 169s 8s/step - loss: 0.9585 - accuracy: 0.5317 - val_loss: 0.9858 - val_accuracy: 0.5063\n",
      "Epoch 19/20\n",
      "20/20 [==============================] - 173s 9s/step - loss: 0.9376 - accuracy: 0.5398 - val_loss: 1.0215 - val_accuracy: 0.4812\n",
      "Epoch 20/20\n",
      "20/20 [==============================] - 173s 9s/step - loss: 0.9849 - accuracy: 0.4977 - val_loss: 0.9964 - val_accuracy: 0.5188\n"
     ]
    },
    {
     "name": "stderr",
     "output_type": "stream",
     "text": [
      "C:\\Users\\wcjohnchen\\anaconda3\\lib\\site-packages\\tensorflow\\python\\keras\\engine\\training.py:1877: UserWarning: `Model.evaluate_generator` is deprecated and will be removed in a future version. Please use `Model.evaluate`, which supports generators.\n",
      "  warnings.warn('`Model.evaluate_generator` is deprecated and '\n"
     ]
    },
    {
     "name": "stdout",
     "output_type": "stream",
     "text": [
      "train model score: [0.9561259746551514, 0.46875]\n",
      "test model score: [1.0814160108566284, 0.46875]\n"
     ]
    }
   ],
   "source": [
    "input_shape = (300,300,3)\n",
    "kernel_size = (3, 3)\n",
    "pool_size = (2, 2)\n",
    "dropout = 0.5\n",
    "activation='relu'\n",
    "kernel_initializer = 'he_normal'\n",
    "n_classes = 3\n",
    "n_epoch = 20\n",
    "\n",
    "learning_rate = [0.01]\n",
    "\n",
    "##### build model\n",
    "model = build_model(input_shape, kernel_size, pool_size, dropout, activation, n_classes, kernel_initializer)\n",
    "model.summary()\n",
    "\n",
    "train_result=[]\n",
    "test_result=[]\n",
    "for rate in learning_rate:\n",
    "    \n",
    "    print(\"learning_rate:\",rate)\n",
    "    model.compile(loss='categorical_crossentropy', \n",
    "                  optimizer=Adam(learning_rate=rate), \n",
    "                  metrics=['accuracy'])\n",
    "\n",
    "    history = model.fit_generator(train_gen,\n",
    "                        epochs=n_epoch, \n",
    "                        validation_data=val_gen, \n",
    "                        steps_per_epoch=20, ## steps_per_epoch = TotalTrainingSamples / TrainingBatchSize\n",
    "                        validation_steps=10) ## validation_steps = TotalvalidationSamples / ValidationBatchSize\n",
    "    \n",
    "    score_train = model.evaluate_generator(train_gen, steps=1)\n",
    "    score_test = model.evaluate_generator(test_gen, steps=1)\n",
    "    \n",
    "    train_result.append(score_train)\n",
    "    test_result.append(score_test)\n",
    "    \n",
    "    print(\"train model score:\", score_train)\n",
    "    print(\"test model score:\", score_test)"
   ]
  },
  {
   "cell_type": "code",
   "execution_count": 211,
   "metadata": {},
   "outputs": [],
   "source": [
    "#model.save('../model/model2.h5')\n",
    "#m = models.load_model('../model/model1.h5')\n",
    "#m.summary()"
   ]
  },
  {
   "cell_type": "code",
   "execution_count": 212,
   "metadata": {},
   "outputs": [
    {
     "data": {
      "image/png": "[encoded data removed]",
      "text/plain": [
       "<Figure size 576x432 with 1 Axes>"
      ]
     },
     "metadata": {
      "needs_background": "light"
     },
     "output_type": "display_data"
    }
   ],
   "source": [
    "#fig, ax = plt.subplots(figsize=(8,6))\n",
    "#[ax.plot(history.history[i], label=i) for i in history.history.keys()]\n",
    "#plt.legend()\n",
    "#plt.show()"
   ]
  },
  {
   "cell_type": "code",
   "execution_count": null,
   "metadata": {},
   "outputs": [],
   "source": []
  }
 ],
 "metadata": {
  "kernelspec": {
   "display_name": "Python 3",
   "language": "python",
   "name": "python3"
  },
  "language_info": {
   "codemirror_mode": {
    "name": "ipython",
    "version": 3
   },
   "file_extension": ".py",
   "mimetype": "text/x-python",
   "name": "python",
   "nbconvert_exporter": "python",
   "pygments_lexer": "ipython3",
   "version": "3.7.6"
  }
 },
 "nbformat": 4,
 "nbformat_minor": 4
}
